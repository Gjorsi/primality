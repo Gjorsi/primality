{
 "cells": [
  {
   "cell_type": "code",
   "execution_count": 22,
   "metadata": {},
   "outputs": [],
   "source": [
    "import random"
   ]
  },
  {
   "cell_type": "code",
   "execution_count": 31,
   "metadata": {},
   "outputs": [],
   "source": [
    "def fermat_test(p, k):\n",
    "    if p < 3: return True\n",
    "    if p % 2 == 0: return False\n",
    "    \n",
    "    for i in range(k):\n",
    "        a = random.randint(2,p)\n",
    "        if pow(a, p-1, p) != 1: return False\n",
    "        \n",
    "    return True"
   ]
  },
  {
   "cell_type": "code",
   "execution_count": 51,
   "metadata": {},
   "outputs": [],
   "source": [
    "def miller_rabin_test(p, k):\n",
    "    if p < 3: return True\n",
    "    if p % 2 == 0: return False\n",
    "    \n",
    "    d = p - 1\n",
    "    r = 1\n",
    "    while (d % 2 == 0): \n",
    "        d //= 2\n",
    "        r += 1\n",
    "    \n",
    "    for i in range(k):\n",
    "        a = random.randint(2,p-1)\n",
    "        x = pow(a, d, p)\n",
    "        if x == 1 or x == p-1: continue\n",
    "        \n",
    "        cont = False\n",
    "        for j in range(r-1):\n",
    "            x = pow(x, 2, p)\n",
    "            if x == p-1: \n",
    "                cont = True\n",
    "                break\n",
    "                \n",
    "        if cont: continue\n",
    "            \n",
    "        return False\n",
    "    return True"
   ]
  },
  {
   "cell_type": "code",
   "execution_count": 61,
   "metadata": {},
   "outputs": [],
   "source": [
    "f_primes = set()\n",
    "mr_primes = set()\n",
    "for i in range(1, 100000):\n",
    "    if fermat_test(i, 5): f_primes.add(i)\n",
    "    if miller_rabin_test(i, 5): mr_primes.add(i)"
   ]
  },
  {
   "cell_type": "code",
   "execution_count": 73,
   "metadata": {},
   "outputs": [
    {
     "name": "stdout",
     "output_type": "stream",
     "text": [
      "Testing integers in range 1 to 100 000\n",
      "Number of primes found by Fermat test: 9590\n",
      "Number of primes found by Miller-Rabin test: 9593\n",
      "Number of primes in both sets: 9585\n",
      "Size of symmetric difference: 13\n"
     ]
    }
   ],
   "source": [
    "print(\"Testing integers in range 1 to 100 000\")\n",
    "print(\"Number of primes found by Fermat test: %d\" % len(f_primes))\n",
    "print(\"Number of primes found by Miller-Rabin test: %d\" % len(mr_primes))\n",
    "print(\"Number of primes in both sets: %d\" % len(f_primes.intersection(mr_primes)))\n",
    "print(\"Size of symmetric difference: %d\" % len(f_primes.symmetric_difference(mr_primes)))"
   ]
  },
  {
   "cell_type": "code",
   "execution_count": 72,
   "metadata": {},
   "outputs": [
    {
     "name": "stdout",
     "output_type": "stream",
     "text": [
      "The Fermat test predicts 3 of 16 Carmichael numbers are prime.\n",
      "The Miller-Rabin test predicts 0 of 16 Carmichael numbers are prime.\n"
     ]
    }
   ],
   "source": [
    "# Carmichael numbers less than 100 000:\n",
    "c_numbers = [561, 1105, 1729, 2465, 2821, 6601, 8911, 10585, 15841, 29341, 41041, 46657, \n",
    "             52633, 62745, 63973, 75361]\n",
    "f_prediction, mr_prediction = 0,0\n",
    "for i in c_numbers:\n",
    "    if fermat_test(i,5): f_prediction += 1\n",
    "    if miller_rabin_test(i,5): mr_prediction += 1\n",
    "        \n",
    "print(\"The Fermat test predicts %d of %d Carmichael numbers are prime.\" % (f_prediction, len(c_numbers)))\n",
    "print(\"The Miller-Rabin test predicts %d of %d Carmichael numbers are prime.\" % (mr_prediction, len(c_numbers)))"
   ]
  },
  {
   "cell_type": "code",
   "execution_count": null,
   "metadata": {},
   "outputs": [],
   "source": []
  }
 ],
 "metadata": {
  "kernelspec": {
   "display_name": "Python 3",
   "language": "python",
   "name": "python3"
  },
  "language_info": {
   "codemirror_mode": {
    "name": "ipython",
    "version": 3
   },
   "file_extension": ".py",
   "mimetype": "text/x-python",
   "name": "python",
   "nbconvert_exporter": "python",
   "pygments_lexer": "ipython3",
   "version": "3.7.4"
  }
 },
 "nbformat": 4,
 "nbformat_minor": 2
}
